{
 "cells": [
  {
   "cell_type": "markdown",
   "metadata": {},
   "source": [
    "# Часть первая: перенос стиля при помощи pix2pix\n",
    "\n",
    "В этом задании мы будем реализовывать перенос стиля на paired данных. Из стандартных датасетов я выбрал самый маленький -- давайте реализуем перенос стиля из масок сегментации в “настоящие фотографии” для конкретного случая фасадов домов.\n",
    "\n",
    "В первой части подразумевается реализация pix2pix архитектуры, т.е. генератора и дискриминатора, которые получают на вход условие в виде изображения исходного стиля."
   ]
  },
  {
   "cell_type": "code",
   "execution_count": 1,
   "metadata": {},
   "outputs": [],
   "source": [
    "import os\n",
    "\n",
    "import imageio\n",
    "import imgaug as ia\n",
    "import imgaug.augmenters as iaa\n",
    "import numpy as np\n",
    "import pytorch_lightning as pl\n",
    "import segmentation_models_pytorch as smp\n",
    "import torch\n",
    "\n",
    "from pytorch_lightning.callbacks.model_checkpoint import ModelCheckpoint\n",
    "from torch import nn\n",
    "from torch import optim\n",
    "from torch.nn import functional as F\n",
    "from torch.utils.data import DataLoader, Dataset\n",
    "from torchvision.transforms.functional import to_tensor, normalize"
   ]
  },
  {
   "cell_type": "code",
   "execution_count": 2,
   "metadata": {},
   "outputs": [],
   "source": [
    "DATA_PATH = 'facades'\n",
    "BATCH_SIZE = 4\n",
    "NUM_WORKERS = 16\n",
    "\n",
    "MEAN = [0.4145, 0.4200, 0.3955]\n",
    "STD = [0.2889, 0.2716, 0.2566]\n",
    "\n",
    "LABELS_MEAN = [0.15027801, 0.28054181, 0.81202195]\n",
    "LABELS_STD = [0.28346735, 0.25603573, 0.31767057]"
   ]
  },
  {
   "cell_type": "code",
   "execution_count": 3,
   "metadata": {},
   "outputs": [],
   "source": [
    "joined = imageio.imread(os.path.join(DATA_PATH, 'train', '1.jpg'))\n",
    "img, mask = joined[:, :256, :], joined[:, 256:, :]"
   ]
  },
  {
   "cell_type": "code",
   "execution_count": 4,
   "metadata": {},
   "outputs": [
    {
     "data": {
      "text/plain": [
       "(256, 512, 3)"
      ]
     },
     "execution_count": 4,
     "metadata": {},
     "output_type": "execute_result"
    }
   ],
   "source": [
    "joined.shape"
   ]
  },
  {
   "cell_type": "code",
   "execution_count": 5,
   "metadata": {},
   "outputs": [],
   "source": [
    "class FacadesDataset(Dataset):\n",
    "    def __init__(self, data_path, split, transforms=None):\n",
    "        self.transforms = transforms\n",
    "        n_images = len(os.listdir(os.path.join(DATA_PATH, split)))\n",
    "        self.images = np.zeros((n_images, 256, 256, 3), dtype=np.uint8)\n",
    "        self.labels = np.zeros((n_images, 256, 256, 3), dtype=np.uint8)\n",
    "        for i in range(1, n_images+1):\n",
    "            joined = imageio.imread(os.path.join(DATA_PATH, split, f'{i}.jpg'))\n",
    "            image, label = joined[:, :256, :], joined[:, 256:, :]\n",
    "            \n",
    "            self.images[i - 1] = image\n",
    "            self.labels[i - 1] = label\n",
    "        self.images = self.images\n",
    "        self.labels = self.labels\n",
    "\n",
    "    def __getitem__(self, idx):\n",
    "        image = self.images[idx]\n",
    "        label = self.labels[idx]\n",
    "        if self.transforms is not None:\n",
    "            image, label = self.transforms(image, label)\n",
    "        image = normalize(to_tensor(image), mean=MEAN, std=STD)\n",
    "        label = normalize(to_tensor(label), mean=LABELS_MEAN, std=LABELS_STD)\n",
    "        return {'image': image, 'label': label}\n",
    "    \n",
    "    def __len__(self):\n",
    "        return len(self.images)"
   ]
  },
  {
   "cell_type": "code",
   "execution_count": 6,
   "metadata": {},
   "outputs": [],
   "source": [
    "def train_transforms(image, labels):\n",
    "    aug = iaa.Sequential([\n",
    "        iaa.flip.Fliplr(p=0.5),\n",
    "        iaa.flip.Flipud(p=0.5),\n",
    "        iaa.Affine(\n",
    "            scale={\"x\": (0.8, 1.2), \"y\": (0.8, 1.2)},\n",
    "            translate_percent={\"x\": (-0.25, 0.25), \"y\": (-0.25, 0.25)},\n",
    "            rotate=(-180, 180),\n",
    "            shear=(20, 20),\n",
    "            mode='reflect'\n",
    "        ),\n",
    "    ], random_order=False)\n",
    "    \n",
    "    aug_deterministic = aug.to_deterministic()\n",
    "    image = aug_deterministic.augment(image=image)\n",
    "    labels = aug_deterministic.augment(image=labels)\n",
    "    \n",
    "    return image, labels"
   ]
  },
  {
   "cell_type": "code",
   "execution_count": 7,
   "metadata": {},
   "outputs": [],
   "source": [
    "train_dataset = FacadesDataset(DATA_PATH, 'train', train_transforms)\n",
    "valid_dataset = FacadesDataset(DATA_PATH, 'val')\n",
    "test_dataset = FacadesDataset(DATA_PATH, 'test')\n",
    "\n",
    "# train_loader = DataLoader(\n",
    "#     train_dataset,\n",
    "#     batch_size=BATCH_SIZE,\n",
    "#     shuffle=True,\n",
    "#     num_workers=NUM_WORKERS,\n",
    "#     drop_last=True\n",
    "# )\n",
    "\n",
    "# valid_loader = DataLoader(\n",
    "#     valid_dataset,\n",
    "#     batch_size=BATCH_SIZE,\n",
    "#     num_workers=NUM_WORKERS\n",
    "# )\n",
    "test_loader = DataLoader(\n",
    "    test_dataset,\n",
    "    batch_size=BATCH_SIZE,\n",
    "    num_workers=NUM_WORKERS\n",
    ")"
   ]
  },
  {
   "cell_type": "code",
   "execution_count": 8,
   "metadata": {},
   "outputs": [],
   "source": [
    "class Pix2PixDataModule(pl.LightningDataModule):\n",
    "    def __init__(self, train_dataset, valid_dataset, test_dataset, batch_size, num_workers):\n",
    "        super().__init__()\n",
    "        self.train_dataset = train_dataset\n",
    "        self.valid_dataset = valid_dataset\n",
    "        self.test_dataset = test_dataset\n",
    "        self.batch_size = batch_size\n",
    "        self.num_workers = num_workers\n",
    "        \n",
    "    def train_dataloader(self):\n",
    "        return DataLoader(\n",
    "            self.train_dataset,\n",
    "            batch_size=self.batch_size,\n",
    "            shuffle=True,\n",
    "            num_workers=self.num_workers,\n",
    "            drop_last=True\n",
    "        )\n",
    "\n",
    "    def val_dataloader(self):\n",
    "        return DataLoader(\n",
    "            self.valid_dataset,\n",
    "            batch_size=self.batch_size,\n",
    "            num_workers=self.num_workers\n",
    "        )\n",
    "    \n",
    "    def test_dataloader(self):\n",
    "        return DataLoader(\n",
    "            self.test_dataset,\n",
    "            batch_size=self.batch_size,\n",
    "            num_workers=self.num_workers\n",
    "        )"
   ]
  },
  {
   "cell_type": "code",
   "execution_count": 11,
   "metadata": {},
   "outputs": [],
   "source": [
    "class Pix2Pix(pl.LightningModule):\n",
    "    def __init__(self):\n",
    "        super().__init__()\n",
    "        self.generator = smp.Unet(\n",
    "            encoder_name='resnet18',\n",
    "            encoder_weights='imagenet',\n",
    "            in_channels=3,\n",
    "            classes=3,\n",
    "        )\n",
    "        # для того, чтобы определить, настоящее пара изображение-маска или нет будем объединять их по каналам\n",
    "        self.discriminator = nn.Sequential(\n",
    "            nn.Conv2d(6, 64, 3, padding=1),\n",
    "            nn.BatchNorm2d(64),\n",
    "            nn.LeakyReLU(),\n",
    "            nn.Conv2d(64, 256, 3, padding=1),\n",
    "            nn.BatchNorm2d(256),\n",
    "            nn.LeakyReLU(),\n",
    "            nn.Conv2d(256, 512, 3, padding=1),\n",
    "            nn.BatchNorm2d(512),\n",
    "            nn.LeakyReLU(),\n",
    "            nn.Conv2d(512, 1, 3, padding=1)\n",
    "        )\n",
    "        \n",
    "    def forward(self, x):\n",
    "        return self.generator(x)\n",
    "    \n",
    "    def _set_requires_grad(self, parameters, value):\n",
    "        for parameter in parameters:\n",
    "                parameter.requires_grad = value\n",
    "        \n",
    "                \n",
    "    def training_step(self, batch, batch_idx, optimizer_idx):\n",
    "        image = batch[\"image\"]\n",
    "        label = batch[\"label\"]\n",
    "        \n",
    "        fake_image = self.generator(label)\n",
    "        \n",
    "        # generator\n",
    "        if optimizer_idx == 0:\n",
    "            self._set_requires_grad(self.discriminator.parameters(), False)\n",
    "            d_pred_fake = self.discriminator(torch.cat([label, fake_image], dim=1))\n",
    "            \n",
    "            g_loss = (\n",
    "                F.mse_loss(d_pred_fake, torch.ones_like(d_pred_fake)) + \n",
    "                F.l1_loss(image, fake_image)\n",
    "            )\n",
    "            \n",
    "            self.log('g_loss', g_loss, on_epoch=True, prog_bar=True)\n",
    "            return g_loss\n",
    "        \n",
    "        # discriminator\n",
    "        elif optimizer_idx == 1:\n",
    "            self._set_requires_grad(self.discriminator.parameters(), True)\n",
    "            \n",
    "            d_pred_orig = self.discriminator(torch.cat([label, image], dim=1))\n",
    "            d_pred_fake = self.discriminator(torch.cat([label, fake_image.detach()], dim=1))\n",
    "            \n",
    "            d_loss = F.mse_loss(\n",
    "                torch.cat([d_pred_orig, d_pred_fake]),\n",
    "                torch.cat([torch.ones_like(d_pred_orig), torch.zeros_like(d_pred_fake)])\n",
    "            )\n",
    "            \n",
    "            self.log('d_loss', d_loss, on_epoch=True, prog_bar=True)\n",
    "            return d_loss\n",
    "    \n",
    "    def validation_step(self, batch, batch_idx):\n",
    "        image = batch[\"image\"]\n",
    "        label = batch[\"label\"]\n",
    "        \n",
    "        fake_image = self.generator(label)\n",
    "        \n",
    "        d_pred_fake = self.discriminator(torch.cat([label, fake_image], dim=1))\n",
    "        d_pred_orig = self.discriminator(torch.cat([label, image], dim=1))\n",
    "        \n",
    "        g_loss_val = (\n",
    "            F.mse_loss(d_pred_fake, torch.ones_like(d_pred_fake)) + \n",
    "            F.l1_loss(image, fake_image)\n",
    "        )\n",
    "        \n",
    "        d_loss_val = F.mse_loss(\n",
    "            torch.cat([d_pred_orig, d_pred_fake]),\n",
    "            torch.cat([torch.ones_like(d_pred_orig), torch.zeros_like(d_pred_fake)])\n",
    "        )\n",
    "        self.log('g_loss_val', g_loss_val, on_epoch=True, prog_bar=True)\n",
    "        self.log('d_loss_val', d_loss_val, on_epoch=True, prog_bar=True)\n",
    "        \n",
    "        if not batch_idx:\n",
    "            self.logger.experiment.add_image(\n",
    "                'Fake image', fake_image[0], self.current_epoch, dataformats = \"CHW\"\n",
    "            )\n",
    "        \n",
    "    \n",
    "    def configure_optimizers(self):\n",
    "        optimizer_g = optim.Adam(self.generator.parameters(), lr=1e-4)\n",
    "        optimizer_d = optim.Adam(self.discriminator.parameters(), lr=1e-4)\n",
    "        scheduler_g = optim.lr_scheduler.ExponentialLR(optimizer_g, 0.5)\n",
    "        scheduler_d = optim.lr_scheduler.ExponentialLR(optimizer_g, 0.5)\n",
    "        return [optimizer_g, optimizer_d], []"
   ]
  },
  {
   "cell_type": "code",
   "execution_count": 12,
   "metadata": {
    "scrolled": false
   },
   "outputs": [
    {
     "name": "stderr",
     "output_type": "stream",
     "text": [
      "GPU available: True, used: True\n",
      "TPU available: None, using: 0 TPU cores\n",
      "LOCAL_RANK: 0 - CUDA_VISIBLE_DEVICES: [0,1]\n",
      "\n",
      "  | Name          | Type       | Params\n",
      "---------------------------------------------\n",
      "0 | generator     | Unet       | 14.3 M\n",
      "1 | discriminator | Sequential | 1.3 M \n",
      "---------------------------------------------\n",
      "15.7 M    Trainable params\n",
      "0         Non-trainable params\n",
      "15.7 M    Total params\n"
     ]
    },
    {
     "data": {
      "application/vnd.jupyter.widget-view+json": {
       "model_id": "",
       "version_major": 2,
       "version_minor": 0
      },
      "text/plain": [
       "HBox(children=(HTML(value='Validation sanity check'), FloatProgress(value=1.0, bar_style='info', layout=Layout…"
      ]
     },
     "metadata": {},
     "output_type": "display_data"
    },
    {
     "data": {
      "application/vnd.jupyter.widget-view+json": {
       "model_id": "41076790cc504aeeac1d55b42e710bcd",
       "version_major": 2,
       "version_minor": 0
      },
      "text/plain": [
       "HBox(children=(HTML(value='Training'), FloatProgress(value=1.0, bar_style='info', layout=Layout(flex='2'), max…"
      ]
     },
     "metadata": {},
     "output_type": "display_data"
    },
    {
     "data": {
      "application/vnd.jupyter.widget-view+json": {
       "model_id": "",
       "version_major": 2,
       "version_minor": 0
      },
      "text/plain": [
       "HBox(children=(HTML(value='Validating'), FloatProgress(value=1.0, bar_style='info', layout=Layout(flex='2'), m…"
      ]
     },
     "metadata": {},
     "output_type": "display_data"
    },
    {
     "name": "stderr",
     "output_type": "stream",
     "text": [
      "Epoch 0, global step 99: g_loss_val reached 1.14891 (best 1.14891), saving model to \"/home/xfs/Downloads/playground/adl/lightning_logs/version_11/checkpoints/epoch=0-step=99.ckpt\" as top 1\n"
     ]
    },
    {
     "data": {
      "application/vnd.jupyter.widget-view+json": {
       "model_id": "",
       "version_major": 2,
       "version_minor": 0
      },
      "text/plain": [
       "HBox(children=(HTML(value='Validating'), FloatProgress(value=1.0, bar_style='info', layout=Layout(flex='2'), m…"
      ]
     },
     "metadata": {},
     "output_type": "display_data"
    },
    {
     "name": "stderr",
     "output_type": "stream",
     "text": [
      "Epoch 1, step 199: g_loss_val was not in top 1\n"
     ]
    },
    {
     "data": {
      "application/vnd.jupyter.widget-view+json": {
       "model_id": "",
       "version_major": 2,
       "version_minor": 0
      },
      "text/plain": [
       "HBox(children=(HTML(value='Validating'), FloatProgress(value=1.0, bar_style='info', layout=Layout(flex='2'), m…"
      ]
     },
     "metadata": {},
     "output_type": "display_data"
    },
    {
     "name": "stderr",
     "output_type": "stream",
     "text": [
      "Epoch 2, step 299: g_loss_val was not in top 1\n"
     ]
    },
    {
     "data": {
      "application/vnd.jupyter.widget-view+json": {
       "model_id": "",
       "version_major": 2,
       "version_minor": 0
      },
      "text/plain": [
       "HBox(children=(HTML(value='Validating'), FloatProgress(value=1.0, bar_style='info', layout=Layout(flex='2'), m…"
      ]
     },
     "metadata": {},
     "output_type": "display_data"
    },
    {
     "name": "stderr",
     "output_type": "stream",
     "text": [
      "Epoch 3, step 399: g_loss_val was not in top 1\n"
     ]
    },
    {
     "data": {
      "application/vnd.jupyter.widget-view+json": {
       "model_id": "",
       "version_major": 2,
       "version_minor": 0
      },
      "text/plain": [
       "HBox(children=(HTML(value='Validating'), FloatProgress(value=1.0, bar_style='info', layout=Layout(flex='2'), m…"
      ]
     },
     "metadata": {},
     "output_type": "display_data"
    },
    {
     "name": "stderr",
     "output_type": "stream",
     "text": [
      "Epoch 4, global step 499: g_loss_val reached 1.01912 (best 1.01912), saving model to \"/home/xfs/Downloads/playground/adl/lightning_logs/version_11/checkpoints/epoch=4-step=499.ckpt\" as top 1\n"
     ]
    },
    {
     "data": {
      "application/vnd.jupyter.widget-view+json": {
       "model_id": "",
       "version_major": 2,
       "version_minor": 0
      },
      "text/plain": [
       "HBox(children=(HTML(value='Validating'), FloatProgress(value=1.0, bar_style='info', layout=Layout(flex='2'), m…"
      ]
     },
     "metadata": {},
     "output_type": "display_data"
    },
    {
     "name": "stderr",
     "output_type": "stream",
     "text": [
      "Epoch 5, step 599: g_loss_val was not in top 1\n"
     ]
    },
    {
     "data": {
      "application/vnd.jupyter.widget-view+json": {
       "model_id": "",
       "version_major": 2,
       "version_minor": 0
      },
      "text/plain": [
       "HBox(children=(HTML(value='Validating'), FloatProgress(value=1.0, bar_style='info', layout=Layout(flex='2'), m…"
      ]
     },
     "metadata": {},
     "output_type": "display_data"
    },
    {
     "name": "stderr",
     "output_type": "stream",
     "text": [
      "Epoch 6, step 699: g_loss_val was not in top 1\n"
     ]
    },
    {
     "data": {
      "application/vnd.jupyter.widget-view+json": {
       "model_id": "",
       "version_major": 2,
       "version_minor": 0
      },
      "text/plain": [
       "HBox(children=(HTML(value='Validating'), FloatProgress(value=1.0, bar_style='info', layout=Layout(flex='2'), m…"
      ]
     },
     "metadata": {},
     "output_type": "display_data"
    },
    {
     "name": "stderr",
     "output_type": "stream",
     "text": [
      "Epoch 7, step 799: g_loss_val was not in top 1\n"
     ]
    },
    {
     "data": {
      "application/vnd.jupyter.widget-view+json": {
       "model_id": "",
       "version_major": 2,
       "version_minor": 0
      },
      "text/plain": [
       "HBox(children=(HTML(value='Validating'), FloatProgress(value=1.0, bar_style='info', layout=Layout(flex='2'), m…"
      ]
     },
     "metadata": {},
     "output_type": "display_data"
    },
    {
     "name": "stderr",
     "output_type": "stream",
     "text": [
      "Epoch 8, step 899: g_loss_val was not in top 1\n"
     ]
    },
    {
     "data": {
      "application/vnd.jupyter.widget-view+json": {
       "model_id": "",
       "version_major": 2,
       "version_minor": 0
      },
      "text/plain": [
       "HBox(children=(HTML(value='Validating'), FloatProgress(value=1.0, bar_style='info', layout=Layout(flex='2'), m…"
      ]
     },
     "metadata": {},
     "output_type": "display_data"
    },
    {
     "name": "stderr",
     "output_type": "stream",
     "text": [
      "Epoch 9, step 999: g_loss_val was not in top 1\n"
     ]
    },
    {
     "data": {
      "application/vnd.jupyter.widget-view+json": {
       "model_id": "",
       "version_major": 2,
       "version_minor": 0
      },
      "text/plain": [
       "HBox(children=(HTML(value='Validating'), FloatProgress(value=1.0, bar_style='info', layout=Layout(flex='2'), m…"
      ]
     },
     "metadata": {},
     "output_type": "display_data"
    },
    {
     "name": "stderr",
     "output_type": "stream",
     "text": [
      "Epoch 10, step 1099: g_loss_val was not in top 1\n"
     ]
    },
    {
     "data": {
      "application/vnd.jupyter.widget-view+json": {
       "model_id": "",
       "version_major": 2,
       "version_minor": 0
      },
      "text/plain": [
       "HBox(children=(HTML(value='Validating'), FloatProgress(value=1.0, bar_style='info', layout=Layout(flex='2'), m…"
      ]
     },
     "metadata": {},
     "output_type": "display_data"
    },
    {
     "name": "stderr",
     "output_type": "stream",
     "text": [
      "Epoch 11, step 1199: g_loss_val was not in top 1\n"
     ]
    },
    {
     "data": {
      "application/vnd.jupyter.widget-view+json": {
       "model_id": "",
       "version_major": 2,
       "version_minor": 0
      },
      "text/plain": [
       "HBox(children=(HTML(value='Validating'), FloatProgress(value=1.0, bar_style='info', layout=Layout(flex='2'), m…"
      ]
     },
     "metadata": {},
     "output_type": "display_data"
    },
    {
     "name": "stderr",
     "output_type": "stream",
     "text": [
      "Epoch 12, step 1299: g_loss_val was not in top 1\n"
     ]
    },
    {
     "data": {
      "application/vnd.jupyter.widget-view+json": {
       "model_id": "",
       "version_major": 2,
       "version_minor": 0
      },
      "text/plain": [
       "HBox(children=(HTML(value='Validating'), FloatProgress(value=1.0, bar_style='info', layout=Layout(flex='2'), m…"
      ]
     },
     "metadata": {},
     "output_type": "display_data"
    },
    {
     "name": "stderr",
     "output_type": "stream",
     "text": [
      "Epoch 13, step 1399: g_loss_val was not in top 1\n"
     ]
    },
    {
     "data": {
      "application/vnd.jupyter.widget-view+json": {
       "model_id": "",
       "version_major": 2,
       "version_minor": 0
      },
      "text/plain": [
       "HBox(children=(HTML(value='Validating'), FloatProgress(value=1.0, bar_style='info', layout=Layout(flex='2'), m…"
      ]
     },
     "metadata": {},
     "output_type": "display_data"
    },
    {
     "name": "stderr",
     "output_type": "stream",
     "text": [
      "Epoch 14, step 1499: g_loss_val was not in top 1\n",
      "Saving latest checkpoint...\n",
      "Epoch 15, step 1505: g_loss_val was not in top 1\n"
     ]
    },
    {
     "name": "stdout",
     "output_type": "stream",
     "text": [
      "\n"
     ]
    },
    {
     "data": {
      "text/plain": [
       "1"
      ]
     },
     "execution_count": 12,
     "metadata": {},
     "output_type": "execute_result"
    }
   ],
   "source": [
    "dm = Pix2PixDataModule(\n",
    "    train_dataset,\n",
    "    valid_dataset,\n",
    "    test_dataset,\n",
    "    BATCH_SIZE,\n",
    "    NUM_WORKERS\n",
    ")\n",
    "\n",
    "model = Pix2Pix()\n",
    "\n",
    "checkpoint_callback = ModelCheckpoint(monitor='g_loss_val', verbose=True, save_last=True)\n",
    "\n",
    "trainer = pl.Trainer(\n",
    "    gpus=[1],\n",
    "    checkpoint_callback=checkpoint_callback,\n",
    "    deterministic=True,\n",
    "    max_epochs=20\n",
    ")\n",
    "\n",
    "trainer.fit(model, datamodule=dm)"
   ]
  },
  {
   "cell_type": "code",
   "execution_count": 13,
   "metadata": {},
   "outputs": [],
   "source": [
    "model.eval()\n",
    "model.freeze()"
   ]
  },
  {
   "cell_type": "code",
   "execution_count": 31,
   "metadata": {
    "scrolled": false
   },
   "outputs": [
    {
     "name": "stderr",
     "output_type": "stream",
     "text": [
      "Clipping input data to the valid range for imshow with RGB data ([0..1] for floats or [0..255] for integers).\n"
     ]
    },
    {
     "data": {
      "image/png": "[encoded data removed]",
      "text/plain": [
       "<Figure size 576x256 with 1 Axes>"
      ]
     },
     "metadata": {
      "needs_background": "light"
     },
     "output_type": "display_data"
    }
   ],
   "source": [
    "with torch.no_grad():\n",
    "    fake_image = model(test_dataset[45]['label'].unsqueeze(0))\n",
    "ia.imshow((fake_image.squeeze(0).permute(1,2,0).numpy() * STD + MEAN))"
   ]
  },
  {
   "cell_type": "markdown",
   "metadata": {},
   "source": [
    "Если приглядеться, то можно увидеть оконные рамы. Но сеть не доучилась."
   ]
  }
 ],
 "metadata": {
  "kernelspec": {
   "display_name": "Python 3",
   "language": "python",
   "name": "python3"
  },
  "language_info": {
   "codemirror_mode": {
    "name": "ipython",
    "version": 3
   },
   "file_extension": ".py",
   "mimetype": "text/x-python",
   "name": "python",
   "nbconvert_exporter": "python",
   "pygments_lexer": "ipython3",
   "version": "3.8.5"
  }
 },
 "nbformat": 4,
 "nbformat_minor": 4
}
