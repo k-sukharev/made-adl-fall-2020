{
 "cells": [
  {
   "cell_type": "code",
   "execution_count": 1,
   "metadata": {},
   "outputs": [],
   "source": [
    "import gym\n",
    "import matplotlib.pyplot as plt\n",
    "import numpy as np\n",
    "\n",
    "from tqdm import tqdm"
   ]
  },
  {
   "cell_type": "markdown",
   "metadata": {},
   "source": [
    "# Часть первая, с блекджеком и стратегиями\n",
    "1. Рассмотрим очень простую стратегию: говорить stand, если у нас на руках комбинация в 19, 20 или 21 очко, во всех остальных случаях говорить hit. Используйте методы Монте-Карло, чтобы оценить выигрыш от этой стратегии."
   ]
  },
  {
   "cell_type": "code",
   "execution_count": 2,
   "metadata": {},
   "outputs": [],
   "source": [
    "env = gym.make('Blackjack-v0', natural=True)"
   ]
  },
  {
   "cell_type": "code",
   "execution_count": 3,
   "metadata": {},
   "outputs": [
    {
     "name": "stdout",
     "output_type": "stream",
     "text": [
      "Avg reward: -0.0409\n"
     ]
    }
   ],
   "source": [
    "eval_episodes_num = 100_000\n",
    "\n",
    "actions = {\n",
    "    'stick': 0,\n",
    "    'hit': 1\n",
    "}\n",
    "\n",
    "def play_simple_strategy(env):\n",
    "    \"Play episode in env with simple stategy\"\n",
    "    score, dealer_card, usable_ace = env.reset()\n",
    "    while score < 19:\n",
    "        observation, reward, done, info = env.step(actions['hit'])\n",
    "        score, dealer_card, usable_ace = observation\n",
    "    else:\n",
    "        observation, reward, done, info = env.step(actions['stick'])\n",
    "        score, dealer_card, usable_ace = observation\n",
    "    return reward\n",
    "\n",
    "rewards = np.array([play_simple_strategy(env) for i in range(eval_episodes_num)])\n",
    "\n",
    "print(\"Avg reward:\", rewards.mean())"
   ]
  },
  {
   "cell_type": "markdown",
   "metadata": {},
   "source": [
    "2. Реализуйте метод обучения с подкреплением без модели (можно Q-обучение, но рекомендую попробовать и другие, например Monte Carlo control) для обучения стратегии в блекджеке, используя окружение Blackjack-v0 из OpenAI Gym."
   ]
  },
  {
   "cell_type": "markdown",
   "metadata": {},
   "source": [
    "Реализуем Q-обучение:"
   ]
  },
  {
   "cell_type": "code",
   "execution_count": 4,
   "metadata": {},
   "outputs": [],
   "source": [
    "env = gym.make('Blackjack-v0', natural=True)\n",
    "action_space_shape = [env.action_space.n]\n",
    "observation_space_shape = [discrete_space.n for discrete_space in env.observation_space]\n",
    "reward_range = [-1, 1]\n",
    "\n",
    "\n",
    "def get_random_reward(reward_range, shape=None):\n",
    "    return np.random.random(shape) * (reward_range[1] - reward_range[0]) + reward_range[0]\n",
    "\n",
    "\n",
    "def init_Q():\n",
    "    Q = get_random_reward(reward_range, shape=observation_space_shape + action_space_shape)\n",
    "    Q[np.arange(observation_space_shape[0]) > 21] = -1\n",
    "    Q[np.arange(observation_space_shape[0]) == 21] = 1\n",
    "    return Q\n",
    "\n",
    "\n",
    "def compute_policy_by_Q(Q):\n",
    "    return Q.argmax(axis=-1)\n",
    "\n",
    "def get_idxs(s, a=None):\n",
    "    if a is not None:\n",
    "        return s[0], s[1], int(s[2]), a\n",
    "    else:\n",
    "        return s[0], s[1], int(s[2])"
   ]
  },
  {
   "cell_type": "code",
   "execution_count": 5,
   "metadata": {},
   "outputs": [],
   "source": [
    "def play_pi_strategy(env, pi):\n",
    "    \"Play episode in env with stategy pi\"\n",
    "    s = env.reset()\n",
    "    done = False\n",
    "    for _ in range(32):\n",
    "        s, reward, done, info = env.step(pi[get_idxs(s)])\n",
    "        if done:\n",
    "            break\n",
    "    return reward"
   ]
  },
  {
   "cell_type": "code",
   "execution_count": 6,
   "metadata": {},
   "outputs": [],
   "source": [
    "def Q_learning_episode(env, pi, Q, alpha=0.05, epsilon=0.05, gamma=0.9):\n",
    "    s = env.reset()\n",
    "    a = pi[get_idxs(s)] if np.random.rand() > epsilon else env.action_space.sample()\n",
    "    \n",
    "    for _ in range(32):\n",
    "        s_prime, reward, done, info = env.step(a)\n",
    "        a_prime = pi[get_idxs(s_prime)] if np.random.rand() > epsilon else env.action_space.sample()\n",
    "        Q[get_idxs(s, a)] = Q[get_idxs(s, a)] + alpha * (reward + gamma * np.max( Q[get_idxs(s_prime)] ) - Q[get_idxs(s, a)])\n",
    "        s, a = s_prime, a_prime\n",
    "        if done:\n",
    "            break"
   ]
  },
  {
   "cell_type": "code",
   "execution_count": 7,
   "metadata": {},
   "outputs": [],
   "source": [
    "def train_Q_learning_model(\n",
    "    env, alpha=0.05, epsilon=0.05, gamma=0.9,\n",
    "    train_episodes_num=1_000_000, eval_episodes_num=100_000, eval_interval=100_000\n",
    "):\n",
    "    Q = init_Q()\n",
    "    pi = compute_policy_by_Q(Q)\n",
    "    \n",
    "    avg_rewards = []\n",
    "    episodes = []\n",
    "\n",
    "    t_train_episodes_num = tqdm(range(1, train_episodes_num + 1))\n",
    "\n",
    "    for i in t_train_episodes_num:\n",
    "        Q_learning_episode(env, pi, Q, alpha=alpha, epsilon=epsilon, gamma=gamma)\n",
    "        pi = compute_policy_by_Q(Q)\n",
    "        if not i % eval_interval:\n",
    "            rewards = np.array([play_pi_strategy(env, pi) for i in range(eval_episodes_num)])\n",
    "            avg_reward = rewards.mean()\n",
    "            avg_rewards.append(avg_reward)\n",
    "            episodes.append(i)\n",
    "            t_train_episodes_num.set_postfix(avg_reward=avg_reward)\n",
    "\n",
    "    avg_rewards = np.array(avg_rewards)\n",
    "    episodes = np.array(episodes)\n",
    "    \n",
    "    return avg_rewards, episodes, pi"
   ]
  },
  {
   "cell_type": "code",
   "execution_count": 8,
   "metadata": {
    "scrolled": true
   },
   "outputs": [
    {
     "name": "stderr",
     "output_type": "stream",
     "text": [
      "100%|██████████| 1000000/1000000 [03:38<00:00, 4586.66it/s, avg_reward=-.122]\n"
     ]
    }
   ],
   "source": [
    "alpha = 0.05\n",
    "epsilon = 0.05\n",
    "gamma = 0.9\n",
    "        \n",
    "avg_rewards, episodes, pi = train_Q_learning_model(env, alpha=alpha, epsilon=epsilon, gamma=gamma)"
   ]
  },
  {
   "cell_type": "markdown",
   "metadata": {},
   "source": [
    "3. Сколько выигрывает казино у вашей стратегии? Нарисуйте графики среднего дохода вашего метода (усреднённого по крайней мере по 100000 раздач, а лучше больше) по ходу обучения. Попробуйте подобрать оптимальные гиперпараметры."
   ]
  },
  {
   "cell_type": "code",
   "execution_count": 9,
   "metadata": {
    "scrolled": false
   },
   "outputs": [
    {
     "data": {
      "image/png": "[encoded data removed]",
      "text/plain": [
       "<Figure size 864x576 with 1 Axes>"
      ]
     },
     "metadata": {
      "needs_background": "light"
     },
     "output_type": "display_data"
    }
   ],
   "source": [
    "plt.figure(figsize=(12, 8))\n",
    "plt.plot(episodes, avg_rewards)\n",
    "plt.title('Q-learning rewards without hyperparameter tuning')\n",
    "plt.xlabel('Number of training episodes');\n",
    "plt.ylabel('Avg reward');"
   ]
  },
  {
   "cell_type": "markdown",
   "metadata": {},
   "source": [
    "Что-то так себе получилось за 1 млн эпизодов обучения. Казино нас обыгрывает. Средний reward около -0.1.\n",
    "\n",
    "Подбираем гиперпараметры по очереди:"
   ]
  },
  {
   "cell_type": "code",
   "execution_count": 10,
   "metadata": {},
   "outputs": [
    {
     "name": "stderr",
     "output_type": "stream",
     "text": [
      "100%|██████████| 1000000/1000000 [03:24<00:00, 4891.72it/s, avg_reward=-.254]\n",
      "  0%|          | 867/1000000 [00:00<01:55, 8659.66it/s]"
     ]
    },
    {
     "name": "stdout",
     "output_type": "stream",
     "text": [
      "alpha:1e-05\t best avg reward:-0.24115\n"
     ]
    },
    {
     "name": "stderr",
     "output_type": "stream",
     "text": [
      "100%|██████████| 1000000/1000000 [03:15<00:00, 5118.81it/s, avg_reward=-.143]\n",
      "  0%|          | 816/1000000 [00:00<02:02, 8147.73it/s]"
     ]
    },
    {
     "name": "stdout",
     "output_type": "stream",
     "text": [
      "alpha:0.0001\t best avg reward:-0.132025\n"
     ]
    },
    {
     "name": "stderr",
     "output_type": "stream",
     "text": [
      "100%|██████████| 1000000/1000000 [03:23<00:00, 4903.51it/s, avg_reward=-.114]\n",
      "  0%|          | 802/1000000 [00:00<02:04, 8017.27it/s]"
     ]
    },
    {
     "name": "stdout",
     "output_type": "stream",
     "text": [
      "alpha:0.001\t best avg reward:-0.09949\n"
     ]
    },
    {
     "name": "stderr",
     "output_type": "stream",
     "text": [
      "100%|██████████| 1000000/1000000 [03:46<00:00, 4411.81it/s, avg_reward=-.114]\n",
      "  0%|          | 795/1000000 [00:00<02:05, 7946.50it/s]"
     ]
    },
    {
     "name": "stdout",
     "output_type": "stream",
     "text": [
      "alpha:0.01\t best avg reward:-0.10595\n"
     ]
    },
    {
     "name": "stderr",
     "output_type": "stream",
     "text": [
      "100%|██████████| 1000000/1000000 [03:36<00:00, 4624.69it/s, avg_reward=-.118]"
     ]
    },
    {
     "name": "stdout",
     "output_type": "stream",
     "text": [
      "alpha:0.05\t best avg reward:-0.09639\n"
     ]
    },
    {
     "name": "stderr",
     "output_type": "stream",
     "text": [
      "\n"
     ]
    }
   ],
   "source": [
    "alphas = [1e-5, 1e-4, 1e-3, 1e-2, 0.05]\n",
    "epsilon = 0.05\n",
    "gamma = 0.9\n",
    "\n",
    "for alpha in alphas:\n",
    "    avg_rewards, episodes, pi = train_Q_learning_model(env, alpha=alpha, epsilon=epsilon, gamma=gamma)\n",
    "    print(f'alpha:{alpha}\\t best avg reward:{avg_rewards.max()}')"
   ]
  },
  {
   "cell_type": "markdown",
   "metadata": {},
   "source": [
    "При больших alpha награда во время обучения сильно скачет, поэтому выберем alpha=0.001."
   ]
  },
  {
   "cell_type": "code",
   "execution_count": 11,
   "metadata": {},
   "outputs": [
    {
     "name": "stderr",
     "output_type": "stream",
     "text": [
      "100%|██████████| 1000000/1000000 [03:20<00:00, 4988.71it/s, avg_reward=-.114]\n",
      "  0%|          | 881/1000000 [00:00<01:53, 8805.70it/s]"
     ]
    },
    {
     "name": "stdout",
     "output_type": "stream",
     "text": [
      "epsilon:0.01\t best avg reward:-0.098485\n"
     ]
    },
    {
     "name": "stderr",
     "output_type": "stream",
     "text": [
      "100%|██████████| 1000000/1000000 [03:15<00:00, 5117.89it/s, avg_reward=-.118]\n",
      "  0%|          | 862/1000000 [00:00<01:55, 8619.88it/s]"
     ]
    },
    {
     "name": "stdout",
     "output_type": "stream",
     "text": [
      "epsilon:0.1\t best avg reward:-0.101425\n"
     ]
    },
    {
     "name": "stderr",
     "output_type": "stream",
     "text": [
      "100%|██████████| 1000000/1000000 [03:31<00:00, 4725.14it/s, avg_reward=-.098]\n",
      "  0%|          | 732/1000000 [00:00<02:16, 7315.05it/s]"
     ]
    },
    {
     "name": "stdout",
     "output_type": "stream",
     "text": [
      "epsilon:0.5\t best avg reward:-0.086895\n"
     ]
    },
    {
     "name": "stderr",
     "output_type": "stream",
     "text": [
      "100%|██████████| 1000000/1000000 [03:25<00:00, 4859.02it/s, avg_reward=-.0937]\n",
      "  0%|          | 758/1000000 [00:00<02:11, 7576.58it/s]"
     ]
    },
    {
     "name": "stdout",
     "output_type": "stream",
     "text": [
      "epsilon:0.75\t best avg reward:-0.07802\n"
     ]
    },
    {
     "name": "stderr",
     "output_type": "stream",
     "text": [
      "100%|██████████| 1000000/1000000 [03:38<00:00, 4568.53it/s, avg_reward=-.0898]\n",
      "  0%|          | 737/1000000 [00:00<02:15, 7367.21it/s]"
     ]
    },
    {
     "name": "stdout",
     "output_type": "stream",
     "text": [
      "epsilon:0.9\t best avg reward:-0.087105\n"
     ]
    },
    {
     "name": "stderr",
     "output_type": "stream",
     "text": [
      "100%|██████████| 1000000/1000000 [03:23<00:00, 4907.32it/s, avg_reward=-.0836]\n",
      "  0%|          | 684/1000000 [00:00<02:26, 6834.50it/s]"
     ]
    },
    {
     "name": "stdout",
     "output_type": "stream",
     "text": [
      "epsilon:0.95\t best avg reward:-0.07337\n"
     ]
    },
    {
     "name": "stderr",
     "output_type": "stream",
     "text": [
      "100%|██████████| 1000000/1000000 [03:20<00:00, 4996.47it/s, avg_reward=-.085]"
     ]
    },
    {
     "name": "stdout",
     "output_type": "stream",
     "text": [
      "epsilon:0.99\t best avg reward:-0.07915\n"
     ]
    },
    {
     "name": "stderr",
     "output_type": "stream",
     "text": [
      "\n"
     ]
    }
   ],
   "source": [
    "alpha = 1e-3\n",
    "epsilons = [0.01, 0.1, 0.5, 0.75, 0.9, 0.95, 0.99]\n",
    "gamma = 0.9\n",
    "\n",
    "for epsilon in epsilons:\n",
    "    avg_rewards, episodes, pi = train_Q_learning_model(env, alpha=alpha, epsilon=epsilon, gamma=gamma)\n",
    "    print(f'epsilon:{epsilon}\\t best avg reward:{avg_rewards.max()}')"
   ]
  },
  {
   "cell_type": "markdown",
   "metadata": {},
   "source": [
    "Интересно, что epsilon получается таким большим и мы очень много исследуем в поисках оптимальной стратегии."
   ]
  },
  {
   "cell_type": "code",
   "execution_count": 12,
   "metadata": {},
   "outputs": [
    {
     "name": "stderr",
     "output_type": "stream",
     "text": [
      "100%|██████████| 1000000/1000000 [03:30<00:00, 4750.11it/s, avg_reward=-.0498]\n",
      "  0%|          | 731/1000000 [00:00<02:16, 7306.59it/s]"
     ]
    },
    {
     "name": "stdout",
     "output_type": "stream",
     "text": [
      "gamma:0.01\t best avg reward:-0.04689\n"
     ]
    },
    {
     "name": "stderr",
     "output_type": "stream",
     "text": [
      "100%|██████████| 1000000/1000000 [03:36<00:00, 4610.84it/s, avg_reward=-.044]\n",
      "  0%|          | 718/1000000 [00:00<02:19, 7178.84it/s]"
     ]
    },
    {
     "name": "stdout",
     "output_type": "stream",
     "text": [
      "gamma:0.05\t best avg reward:-0.04397\n"
     ]
    },
    {
     "name": "stderr",
     "output_type": "stream",
     "text": [
      "100%|██████████| 1000000/1000000 [03:36<00:00, 4627.30it/s, avg_reward=-.0517]\n",
      "  0%|          | 630/1000000 [00:00<02:38, 6295.89it/s]"
     ]
    },
    {
     "name": "stdout",
     "output_type": "stream",
     "text": [
      "gamma:0.1\t best avg reward:-0.051685\n"
     ]
    },
    {
     "name": "stderr",
     "output_type": "stream",
     "text": [
      "100%|██████████| 1000000/1000000 [03:38<00:00, 4578.15it/s, avg_reward=-.0399]\n",
      "  0%|          | 719/1000000 [00:00<02:19, 7174.87it/s]"
     ]
    },
    {
     "name": "stdout",
     "output_type": "stream",
     "text": [
      "gamma:0.2\t best avg reward:-0.03987\n"
     ]
    },
    {
     "name": "stderr",
     "output_type": "stream",
     "text": [
      "100%|██████████| 1000000/1000000 [03:38<00:00, 4584.33it/s, avg_reward=-.0441]\n",
      "  0%|          | 753/1000000 [00:00<02:12, 7528.95it/s]"
     ]
    },
    {
     "name": "stdout",
     "output_type": "stream",
     "text": [
      "gamma:0.5\t best avg reward:-0.04407\n"
     ]
    },
    {
     "name": "stderr",
     "output_type": "stream",
     "text": [
      "100%|██████████| 1000000/1000000 [03:38<00:00, 4573.58it/s, avg_reward=-.056]\n",
      "  0%|          | 763/1000000 [00:00<02:11, 7625.61it/s]"
     ]
    },
    {
     "name": "stdout",
     "output_type": "stream",
     "text": [
      "gamma:0.7\t best avg reward:-0.04947\n"
     ]
    },
    {
     "name": "stderr",
     "output_type": "stream",
     "text": [
      "100%|██████████| 1000000/1000000 [03:37<00:00, 4607.64it/s, avg_reward=-.085]\n",
      "  0%|          | 734/1000000 [00:00<02:16, 7338.52it/s]"
     ]
    },
    {
     "name": "stdout",
     "output_type": "stream",
     "text": [
      "gamma:0.8\t best avg reward:-0.067705\n"
     ]
    },
    {
     "name": "stderr",
     "output_type": "stream",
     "text": [
      "100%|██████████| 1000000/1000000 [03:38<00:00, 4581.00it/s, avg_reward=-.0861]\n",
      "  0%|          | 707/1000000 [00:00<02:21, 7064.13it/s]"
     ]
    },
    {
     "name": "stdout",
     "output_type": "stream",
     "text": [
      "gamma:0.9\t best avg reward:-0.07329\n"
     ]
    },
    {
     "name": "stderr",
     "output_type": "stream",
     "text": [
      "100%|██████████| 1000000/1000000 [03:36<00:00, 4623.47it/s, avg_reward=-.102]"
     ]
    },
    {
     "name": "stdout",
     "output_type": "stream",
     "text": [
      "gamma:0.95\t best avg reward:-0.09324\n"
     ]
    },
    {
     "name": "stderr",
     "output_type": "stream",
     "text": [
      "\n"
     ]
    }
   ],
   "source": [
    "alpha = 1e-3\n",
    "epsilon = 0.95\n",
    "gammas = [0.01, 0.05, 0.1, 0.2, 0.5, 0.7, 0.8, 0.9, 0.95]\n",
    "\n",
    "for gamma in gammas:\n",
    "    avg_rewards, episodes, pi = train_Q_learning_model(env, alpha=alpha, epsilon=epsilon, gamma=gamma)\n",
    "    print(f'gamma:{gamma}\\t best avg reward:{avg_rewards.max()}')"
   ]
  },
  {
   "cell_type": "markdown",
   "metadata": {},
   "source": [
    "Потюнив gamma, мы получили стратегию, которая сравнима с нашей базовой стратегией с 19, 20 и 21 очком.\n",
    "\n",
    "Но похоже оптимальное значение лежит где-то между 0.2 и 0.5.\n",
    "\n",
    "Возьмем gamma = 0.4."
   ]
  },
  {
   "cell_type": "code",
   "execution_count": 14,
   "metadata": {},
   "outputs": [
    {
     "name": "stderr",
     "output_type": "stream",
     "text": [
      "100%|██████████| 2000000/2000000 [06:58<00:00, 4774.00it/s, avg_reward=-.032] \n"
     ]
    }
   ],
   "source": [
    "alpha = 1e-3\n",
    "epsilon = 0.95\n",
    "gamma = 0.4\n",
    "\n",
    "avg_rewards, episodes, pi = train_Q_learning_model(\n",
    "    env, alpha=alpha, epsilon=epsilon, gamma=gamma,\n",
    "    train_episodes_num=2_000_000\n",
    ")"
   ]
  },
  {
   "cell_type": "markdown",
   "metadata": {},
   "source": [
    "Теперь даже чуть лучше, чем базовая стратегия. Avg reward = -0.032. Казино все равно выигрывает."
   ]
  },
  {
   "cell_type": "code",
   "execution_count": 15,
   "metadata": {},
   "outputs": [
    {
     "data": {
      "image/png": "[encoded data removed]",
      "text/plain": [
       "<Figure size 864x576 with 1 Axes>"
      ]
     },
     "metadata": {
      "needs_background": "light"
     },
     "output_type": "display_data"
    }
   ],
   "source": [
    "plt.figure(figsize=(12, 8))\n",
    "plt.plot(episodes, avg_rewards)\n",
    "plt.title('Q-learning rewards with hyperparameter tuning')\n",
    "plt.xlabel('Number of training episodes');\n",
    "plt.ylabel('Avg reward');"
   ]
  },
  {
   "cell_type": "code",
   "execution_count": 16,
   "metadata": {},
   "outputs": [],
   "source": [
    "env.close()"
   ]
  },
  {
   "cell_type": "markdown",
   "metadata": {},
   "source": [
    "# Часть вторая, удвоенная"
   ]
  },
  {
   "cell_type": "markdown",
   "metadata": {},
   "source": [
    "4. Реализуйте новый вариант блекджека на основе окружения Blackjack-v0 из OpenAI Gym, в котором разрешено удвоение ставки."
   ]
  },
  {
   "cell_type": "code",
   "execution_count": 36,
   "metadata": {},
   "outputs": [],
   "source": [
    "from gym.envs.toy_text.blackjack import *\n",
    "\n",
    "\n",
    "class DoubleBlackjackEnv(BlackjackEnv):\n",
    "    def __init__(self, natural=False):\n",
    "        self.action_space = spaces.Discrete(3)\n",
    "        self.observation_space = spaces.Tuple((\n",
    "            spaces.Discrete(32),\n",
    "            spaces.Discrete(11),\n",
    "            spaces.Discrete(2)))\n",
    "        self.seed()\n",
    "\n",
    "        # Flag to payout 1.5 on a \"natural\" blackjack win, like casino rules\n",
    "        # Ref: http://www.bicyclecards.com/how-to-play/blackjack/\n",
    "        self.natural = natural\n",
    "        # Start the first game\n",
    "        self.reset()\n",
    "        \n",
    "    def step(self, action):\n",
    "        assert self.action_space.contains(action)\n",
    "        if action == 1:  # hit: add a card to players hand and return\n",
    "            self.player.append(draw_card(self.np_random))\n",
    "            if is_bust(self.player):\n",
    "                done = True\n",
    "                reward = -1.\n",
    "            else:\n",
    "                done = False\n",
    "                reward = 0.      \n",
    "        elif action == 2:  # double: double wager, add a card to players hand, play out the dealers hand, and score\n",
    "            self.player.append(draw_card(self.np_random))\n",
    "            if is_bust(self.player):\n",
    "                done = True\n",
    "                reward = -2.\n",
    "            else:\n",
    "                done = True\n",
    "                while sum_hand(self.dealer) < 17:\n",
    "                    self.dealer.append(draw_card(self.np_random))\n",
    "                reward = cmp(score(self.player), score(self.dealer))\n",
    "                if self.natural and is_natural(self.player) and reward == 1.:\n",
    "                    reward = 1.5\n",
    "                else:\n",
    "                    reward *= 2\n",
    "        else:  # stick: play out the dealers hand, and score\n",
    "            done = True\n",
    "            while sum_hand(self.dealer) < 17:\n",
    "                self.dealer.append(draw_card(self.np_random))\n",
    "            reward = cmp(score(self.player), score(self.dealer))\n",
    "            if self.natural and is_natural(self.player) and reward == 1.:\n",
    "                reward = 1.5\n",
    "        return self._get_obs(), reward, done, {}"
   ]
  },
  {
   "cell_type": "markdown",
   "metadata": {},
   "source": [
    "5. Реализуйте метод обучения с подкреплением без модели для этого варианта, постройте графики, аналогичные п.2."
   ]
  },
  {
   "cell_type": "code",
   "execution_count": 37,
   "metadata": {},
   "outputs": [],
   "source": [
    "env = DoubleBlackjackEnv(natural=True)"
   ]
  },
  {
   "cell_type": "code",
   "execution_count": 38,
   "metadata": {},
   "outputs": [],
   "source": [
    "action_space_shape = [env.action_space.n]\n",
    "observation_space_shape = [discrete_space.n for discrete_space in env.observation_space]\n",
    "reward_range = [-2, 2]"
   ]
  },
  {
   "cell_type": "markdown",
   "metadata": {},
   "source": [
    "У нас все уже почти готово, только поменяем функцию, генерирующую случайные значения Q:"
   ]
  },
  {
   "cell_type": "code",
   "execution_count": 39,
   "metadata": {},
   "outputs": [],
   "source": [
    "def init_Q():\n",
    "    Q = get_random_reward(reward_range, shape=observation_space_shape + action_space_shape)\n",
    "    Q[np.arange(observation_space_shape[0]) > 21] = -1\n",
    "    Q[np.arange(observation_space_shape[0]) > 21, ..., 2] = -2\n",
    "    Q[np.arange(observation_space_shape[0]) == 21] = 1\n",
    "    Q[np.arange(observation_space_shape[0]) == 21, ..., 2] = 2\n",
    "    return Q"
   ]
  },
  {
   "cell_type": "code",
   "execution_count": 40,
   "metadata": {},
   "outputs": [
    {
     "name": "stderr",
     "output_type": "stream",
     "text": [
      "100%|██████████| 2000000/2000000 [07:15<00:00, 4595.81it/s, avg_reward=-.0354]\n"
     ]
    }
   ],
   "source": [
    "alpha = 1e-3\n",
    "epsilon = 0.95\n",
    "gamma = 0.4\n",
    "\n",
    "avg_rewards, episodes, pi = train_Q_learning_model(\n",
    "    env, alpha=alpha, epsilon=epsilon, gamma=gamma,\n",
    "    train_episodes_num=2_000_000\n",
    ")"
   ]
  },
  {
   "cell_type": "code",
   "execution_count": 41,
   "metadata": {},
   "outputs": [
    {
     "data": {
      "image/png": "[encoded data removed]",
      "text/plain": [
       "<Figure size 864x576 with 1 Axes>"
      ]
     },
     "metadata": {
      "needs_background": "light"
     },
     "output_type": "display_data"
    }
   ],
   "source": [
    "plt.figure(figsize=(12, 8))\n",
    "plt.plot(episodes, avg_rewards)\n",
    "plt.title('Q-learning rewards in env with double wagers')\n",
    "plt.xlabel('Number of training episodes');\n",
    "plt.ylabel('Avg reward');"
   ]
  },
  {
   "cell_type": "markdown",
   "metadata": {},
   "source": [
    "Получилось примерно так же, как и в окружении без удвоения ставок. Средняя награда = -0.035."
   ]
  },
  {
   "cell_type": "code",
   "execution_count": 42,
   "metadata": {},
   "outputs": [],
   "source": [
    "env.close()"
   ]
  },
  {
   "cell_type": "markdown",
   "metadata": {},
   "source": [
    "# Часть третья, в главной роли — Дастин Хоффман\n",
    "\n",
    "6. Реализуйте вариант окружения Blackjack-v0 из предыдущей части (с удвоением), в котором игрок имеет возможность “считать карты” в колоде."
   ]
  },
  {
   "cell_type": "code",
   "execution_count": 43,
   "metadata": {},
   "outputs": [],
   "source": [
    "from gym.envs.toy_text.blackjack import *\n",
    "\n",
    "full_deck = np.tile(np.concatenate([np.arange(1, 10), np.repeat(10, 4)]), 4)\n",
    "\n",
    "card_to_value = {\n",
    "    1: -1,\n",
    "    2: 1,\n",
    "    3: 1,\n",
    "    4: 1,\n",
    "    5: 1,\n",
    "    6: 1,\n",
    "    7: 0,\n",
    "    8: 0,\n",
    "    9: 0,\n",
    "    10: -1,\n",
    "}\n",
    "\n",
    "def get_idxs(s, a=None):\n",
    "    if a is not None:\n",
    "        return s[0], s[1], int(s[2]), s[3], a\n",
    "    else:\n",
    "        return s[0], s[1], int(s[2]), s[3]\n",
    "\n",
    "class DoubleCountBlackjackEnv(BlackjackEnv):\n",
    "    def __init__(self, natural=False):\n",
    "        self.action_space = spaces.Discrete(3)\n",
    "        self.observation_space = spaces.Tuple((\n",
    "            spaces.Discrete(32),\n",
    "            spaces.Discrete(11),\n",
    "            spaces.Discrete(2),\n",
    "            spaces.Discrete(41)))\n",
    "        self.seed()\n",
    "\n",
    "        # Flag to payout 1.5 on a \"natural\" blackjack win, like casino rules\n",
    "        # Ref: http://www.bicyclecards.com/how-to-play/blackjack/\n",
    "        self.natural = natural\n",
    "        \n",
    "        self.deck = self.np_random.permutation(full_deck)\n",
    "        self.card_idx = 0\n",
    "        self.cnt = 0\n",
    "        \n",
    "        # Start the first game\n",
    "        self.reset()\n",
    "        \n",
    "    def draw_card(self, count=True):\n",
    "        card = self.deck[self.card_idx]\n",
    "        self.card_idx += 1\n",
    "        if count:\n",
    "            self.cnt += card_to_value[card]\n",
    "        return card\n",
    "    \n",
    "    def draw_hand(self, player_hand=True):\n",
    "        return [self.draw_card(), self.draw_card(player_hand)]\n",
    "        \n",
    "    def step(self, action):\n",
    "        assert self.action_space.contains(action)\n",
    "        if action == 1:  # hit: add a card to players hand and return\n",
    "            self.player.append(self.draw_card())\n",
    "            if is_bust(self.player):\n",
    "                done = True\n",
    "                reward = -1.\n",
    "            else:\n",
    "                done = False\n",
    "                reward = 0.      \n",
    "        elif action == 2:  # double: double wager, add a card to players hand, play out the dealers hand, and score\n",
    "            self.player.append(self.draw_card())\n",
    "            if is_bust(self.player):\n",
    "                done = True\n",
    "                reward = -2.\n",
    "            else:\n",
    "                done = True\n",
    "                while sum_hand(self.dealer) < 17:\n",
    "                    self.dealer.append(self.draw_card())\n",
    "                reward = cmp(score(self.player), score(self.dealer))\n",
    "                if self.natural and is_natural(self.player) and reward == 1.:\n",
    "                    reward = 1.5\n",
    "                else:\n",
    "                    reward *= 2\n",
    "        else:  # stick: play out the dealers hand, and score\n",
    "            done = True\n",
    "            while sum_hand(self.dealer) < 17:\n",
    "                self.dealer.append(self.draw_card())\n",
    "            reward = cmp(score(self.player), score(self.dealer))\n",
    "            if self.natural and is_natural(self.player) and reward == 1.:\n",
    "                reward = 1.5\n",
    "        return self._get_obs(), reward, done, {}\n",
    "    \n",
    "    def _get_obs(self):\n",
    "        return (sum_hand(self.player), self.dealer[0], usable_ace(self.player), self.cnt)\n",
    "    \n",
    "    def reset(self):\n",
    "        if hasattr(self, 'dealer'):\n",
    "            self.cnt += card_to_value[self.dealer[1]]\n",
    "        \n",
    "        if len(self.deck) - self.card_idx < 15:\n",
    "            self.deck = self.np_random.permutation(full_deck)\n",
    "            self.card_idx = 0\n",
    "            self.cnt = 0\n",
    "    \n",
    "        self.dealer = self.draw_hand(player_hand=False)\n",
    "        self.player = self.draw_hand()\n",
    "        return self._get_obs()"
   ]
  },
  {
   "cell_type": "markdown",
   "metadata": {},
   "source": [
    "7. Реализуйте метод обучения с подкреплением без модели для этого варианта, постройте графики, аналогичные п.2"
   ]
  },
  {
   "cell_type": "code",
   "execution_count": 44,
   "metadata": {},
   "outputs": [],
   "source": [
    "def init_Q():\n",
    "    # инициализировать все случайными числами было плохой идеей,\n",
    "    # обучается целую вечность, поэтому инициализация нулями везде, кроме конечных состояний\n",
    "    Q = np.zeros(observation_space_shape + action_space_shape)\n",
    "    Q[np.arange(observation_space_shape[0]) > 21] = -1\n",
    "    Q[np.arange(observation_space_shape[0]) > 21, ..., 2] = -2\n",
    "    Q[np.arange(observation_space_shape[0]) == 21] = 1\n",
    "    Q[np.arange(observation_space_shape[0]) == 21, ..., 2] = 2\n",
    "    return Q"
   ]
  },
  {
   "cell_type": "code",
   "execution_count": 45,
   "metadata": {},
   "outputs": [],
   "source": [
    "env = DoubleCountBlackjackEnv(natural=True)"
   ]
  },
  {
   "cell_type": "code",
   "execution_count": 46,
   "metadata": {},
   "outputs": [],
   "source": [
    "action_space_shape = [env.action_space.n]\n",
    "observation_space_shape = [discrete_space.n for discrete_space in env.observation_space]\n",
    "reward_range = [-2, 2]"
   ]
  },
  {
   "cell_type": "code",
   "execution_count": 47,
   "metadata": {},
   "outputs": [
    {
     "name": "stderr",
     "output_type": "stream",
     "text": [
      "100%|██████████| 20000000/20000000 [1:34:11<00:00, 3538.93it/s, avg_reward=-.00503]  \n"
     ]
    }
   ],
   "source": [
    "alpha = 0.001\n",
    "epsilon = 0.95\n",
    "gamma = 0.4\n",
    "\n",
    "avg_rewards, episodes, pi = train_Q_learning_model(\n",
    "    env, alpha=alpha, epsilon=epsilon, gamma=gamma,\n",
    "    train_episodes_num=20_000_000\n",
    ")"
   ]
  },
  {
   "cell_type": "code",
   "execution_count": 48,
   "metadata": {},
   "outputs": [
    {
     "name": "stdout",
     "output_type": "stream",
     "text": [
      "max reward: -0.000775\n"
     ]
    }
   ],
   "source": [
    "print('max reward:', avg_rewards.max())"
   ]
  },
  {
   "cell_type": "markdown",
   "metadata": {},
   "source": [
    "Даже с подсчетом карт казино нас обыгрывает. Награда осциллирует в районе -0.01.\n",
    "\n",
    "В самом лучшем случае reward = -0.0007. Почти играем в ноль. С минусом.\n",
    "\n",
    "Вывод: играть в казино - плохая затея."
   ]
  },
  {
   "cell_type": "code",
   "execution_count": 49,
   "metadata": {},
   "outputs": [
    {
     "data": {
      "image/png": "[encoded data removed]",
      "text/plain": [
       "<Figure size 864x576 with 1 Axes>"
      ]
     },
     "metadata": {
      "needs_background": "light"
     },
     "output_type": "display_data"
    }
   ],
   "source": [
    "plt.figure(figsize=(12, 8))\n",
    "plt.plot(episodes, avg_rewards)\n",
    "plt.title('Q-learning rewards in env with double wagers and card counting')\n",
    "plt.xlabel('Number of training episodes');\n",
    "plt.ylabel('Avg reward');"
   ]
  },
  {
   "cell_type": "code",
   "execution_count": 50,
   "metadata": {},
   "outputs": [],
   "source": [
    "env.close()"
   ]
  }
 ],
 "metadata": {
  "kernelspec": {
   "display_name": "Python 3.8.3 64-bit ('playground': conda)",
   "language": "python",
   "name": "python38364bitplaygroundconda42dd815b69c9458aa29f3deee02c6078"
  },
  "language_info": {
   "codemirror_mode": {
    "name": "ipython",
    "version": 3
   },
   "file_extension": ".py",
   "mimetype": "text/x-python",
   "name": "python",
   "nbconvert_exporter": "python",
   "pygments_lexer": "ipython3",
   "version": "3.8.3"
  }
 },
 "nbformat": 4,
 "nbformat_minor": 4
}
